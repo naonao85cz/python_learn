{
 "cells": [
  {
   "cell_type": "code",
   "execution_count": 2,
   "metadata": {
    "collapsed": true
   },
   "outputs": [],
   "source": [
    "import numpy as np\n",
    "dataset_filename=\"affinity_dataset.txt\"\n",
    "X=np.loadtxt(dataset_filename)"
   ]
  },
  {
   "cell_type": "code",
   "execution_count": 3,
   "metadata": {
    "collapsed": false
   },
   "outputs": [
    {
     "name": "stdout",
     "output_type": "stream",
     "text": [
      "[[ 0.  0.  1.  1.  1.]\n",
      " [ 1.  1.  0.  1.  0.]\n",
      " [ 1.  0.  1.  1.  0.]\n",
      " [ 0.  0.  1.  1.  1.]\n",
      " [ 0.  1.  0.  0.  1.]]\n"
     ]
    }
   ],
   "source": [
    "print (X[:5])"
   ]
  },
  {
   "cell_type": "code",
   "execution_count": 3,
   "metadata": {
    "collapsed": false
   },
   "outputs": [
    {
     "name": "stdout",
     "output_type": "stream",
     "text": [
      "[[ 0.  0.  1.  1.  1.]\n",
      " [ 1.  1.  0.  1.  0.]\n",
      " [ 1.  0.  1.  1.  0.]\n",
      " [ 0.  0.  1.  1.  1.]\n",
      " [ 0.  1.  0.  0.  1.]]\n"
     ]
    }
   ],
   "source": [
    "print(X[:5])"
   ]
  },
  {
   "cell_type": "code",
   "execution_count": 4,
   "metadata": {
    "collapsed": false
   },
   "outputs": [
    {
     "name": "stdout",
     "output_type": "stream",
     "text": [
      "36 个人购买了苹果\n"
     ]
    }
   ],
   "source": [
    "#计算“如果买了苹果，也会购买香蕉”的支持度与置信度。首先计算购买苹果的数量\n",
    "num_apple_purchases=0\n",
    "for sample in X:\n",
    "    if sample[3]==1:  #购买了苹果\n",
    "        num_apple_purchases+=1\n",
    "print(\"{0} 个人购买了苹果\" .format(num_apple_purchases))"
   ]
  },
  {
   "cell_type": "code",
   "execution_count": 5,
   "metadata": {
    "collapsed": false
   },
   "outputs": [
    {
     "name": "stdout",
     "output_type": "stream",
     "text": [
      "59 个人购买了香蕉\n"
     ]
    }
   ],
   "source": [
    "#计算“如果买了苹果，也会购买香蕉”的支持度与置信度。第二部计算购买香蕉的数量\n",
    "num_pear_purchases=0\n",
    "for sample in X:\n",
    "    if sample[4]==1: #购买了香蕉\n",
    "        num_pear_purchases+=1\n",
    "print(\"{0} 个人购买了香蕉\".format(num_pear_purchases))"
   ]
  },
  {
   "cell_type": "code",
   "execution_count": 14,
   "metadata": {
    "collapsed": true
   },
   "outputs": [],
   "source": [
    "#从（苹果，香蕉）的个例练习如何计算支持度与置信度，即sample[3]=1 and sample[4]=1.首先定义特征组\n",
    "features=['面包','牛奶','奶酪','苹果','香蕉']"
   ]
  },
  {
   "cell_type": "code",
   "execution_count": 8,
   "metadata": {
    "collapsed": false
   },
   "outputs": [
    {
     "name": "stdout",
     "output_type": "stream",
     "text": [
      "规则应验次数为21\n",
      "规则无效次数为15\n",
      "条件发生总次数为36\n"
     ]
    }
   ],
   "source": [
    "#定义并计算规则应验、规则无效\n",
    "rule_valid=0 #规则应验的次数\n",
    "rule_invalid=0 #规则无效的次数\n",
    "num_occurances=0 #条件发生的总次数\n",
    "for sample in X:\n",
    "    if sample[3]==1:\n",
    "        num_occurances+=1\n",
    "        if sample[4]==1:\n",
    "            rule_valid+=1\n",
    "        else: rule_invalid+=1\n",
    "print(\"规则应验次数为{0}\".format(rule_valid))\n",
    "print(\"规则无效次数为{0}\".format(rule_invalid))\n",
    "print(\"条件发生总次数为{0}\".format(num_occurances))"
   ]
  },
  {
   "cell_type": "code",
   "execution_count": 9,
   "metadata": {
    "collapsed": false
   },
   "outputs": [
    {
     "name": "stdout",
     "output_type": "stream",
     "text": [
      "购买苹果的人也购买了香蕉的支持度为21\n",
      "购买苹果的人也购买了香蕉的置信度为58.3%\n"
     ]
    }
   ],
   "source": [
    "#计算支持度、置信度\n",
    "support=rule_valid\n",
    "confidence=rule_valid/num_occurances\n",
    "print(\"购买苹果的人也购买了香蕉的支持度为{0}\".format(support))\n",
    "print(\"购买苹果的人也购买了香蕉的置信度为{0:.1f}%\".format(100*confidence))"
   ]
  },
  {
   "cell_type": "code",
   "execution_count": 20,
   "metadata": {
    "collapsed": false
   },
   "outputs": [],
   "source": [
    "#5类产品可随意计算任意条件和结论规则，即参数化条件premise和结论conclusion，首先建立条件和结论的字典信息\n",
    "from collections import defaultdict\n",
    "valid_rule=defaultdict(int)\n",
    "invalid_rule=defaultdict(int)\n",
    "num_premise_occurances=defaultdict(int)\n",
    "for sample in X: #对数据集中的每条记录\n",
    "    for premise in range(len(features)): #对五种可能的条件\n",
    "        if sample[premise]==0:\n",
    "            continue #不满足规则的条件部分，则跳过\n",
    "        num_premise_occurances[premise]+=1\n",
    "        for conclusion in range(len(features)):\n",
    "            if premise==conclusion:continue#条件与结论相同，即如果买了苹果，则买了苹果。此种情况则跳过\n",
    "            if sample[conclusion]==1:\n",
    "                valid_rule[(premise,conclusion)]+=1\n",
    "            else:\n",
    "                invalid_rule[(premise,conclusion)]+=1\n",
    "support=valid_rule\n",
    "confidence=defaultdict(float)\n",
    "for premise,conclusion in valid_rule.keys():\n",
    "    confidence[(premise,conclusion)]=valid_rule[(premise,conclusion)]/num_premise_occurances[premise]          \n",
    "            "
   ]
  },
  {
   "cell_type": "code",
   "execution_count": 21,
   "metadata": {
    "collapsed": false
   },
   "outputs": [],
   "source": [
    "def print_rule(premise,conclusion,support,confidence,features):\n",
    "    premise_name=features[premise]\n",
    "    conclusion_name=features[conclusion]\n",
    "    print(\"如果客户购买{0}，则也会购买{1}\".format(premise_name,conclusion_name))\n",
    "    print(\"支持度为{0}\".format(support[(premise,conclusion)]))\n",
    "    print(\"置信度为{0:.3f}\".format(confidence[(premise,conclusion)]))"
   ]
  },
  {
   "cell_type": "code",
   "execution_count": 22,
   "metadata": {
    "collapsed": false
   },
   "outputs": [
    {
     "name": "stdout",
     "output_type": "stream",
     "text": [
      "如果客户购买苹果，则也会购买香蕉\n",
      "支持度为21\n",
      "置信度为0.583\n"
     ]
    }
   ],
   "source": [
    "premise=3\n",
    "conclusion=4\n",
    "print_rule(premise,conclusion,support,confidence,features)"
   ]
  },
  {
   "cell_type": "code",
   "execution_count": null,
   "metadata": {
    "collapsed": true
   },
   "outputs": [],
   "source": []
  }
 ],
 "metadata": {
  "anaconda-cloud": {},
  "kernelspec": {
   "display_name": "Python [conda root]",
   "language": "python",
   "name": "conda-root-py"
  },
  "language_info": {
   "codemirror_mode": {
    "name": "ipython",
    "version": 3
   },
   "file_extension": ".py",
   "mimetype": "text/x-python",
   "name": "python",
   "nbconvert_exporter": "python",
   "pygments_lexer": "ipython3",
   "version": "3.5.2"
  }
 },
 "nbformat": 4,
 "nbformat_minor": 1
}
